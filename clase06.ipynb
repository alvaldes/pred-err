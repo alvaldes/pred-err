{
 "cells": [
  {
   "cell_type": "markdown",
   "id": "7eaabe24",
   "metadata": {},
   "source": [
    "# Eliminacion de Outliers\n",
    "\n",
    "- Formula\n",
    "`abs(X - mean(X)) >= n * std(X)`\n",
    "\n",
    "- Donde `n` puede ser 2 o 3\n",
    "- Y `X` es la matris"
   ]
  },
  {
   "cell_type": "code",
   "execution_count": 4,
   "id": "a7b98da2",
   "metadata": {},
   "outputs": [
    {
     "name": "stdout",
     "output_type": "stream",
     "text": [
      "1006.2\n",
      "7.5\n",
      "2997.9357831681446\n"
     ]
    }
   ],
   "source": [
    "import numpy as np\n",
    "\n",
    "x = np.array([1,2,5,10,15,8,9,7,5,10000])\n",
    "\n",
    "x.mean()  # 1066.2\n",
    "np.median(x)  # 8.5\n",
    "\n",
    "print(x.mean())\n",
    "print(np.median(x))\n",
    "print(np.std(x))  # 3145.5751289533537"
   ]
  },
  {
   "cell_type": "markdown",
   "id": "dba06474",
   "metadata": {},
   "source": [
    "## 1- Elaborar un reporte en un Notebook con al menos 2 conjuntos de datos"
   ]
  },
  {
   "cell_type": "markdown",
   "id": "9a994dbe",
   "metadata": {},
   "source": [
    "## Tarea: Investigar la técnica de la Desviación Absoluta de la Mediana (MAD) y realizar un reporte en una libreta Jupyter Notebook.\n",
    "> Fecha: siguiente clase."
   ]
  },
  {
   "cell_type": "markdown",
   "id": "e73c1f54",
   "metadata": {},
   "source": [
    "## Desviación Absoluta de la Mediana (MAD)\n",
    "\n",
    "[Qué es: Desviación absoluta mediana-APRENDA ESTADÍSTICAS FÁCILMENTE](https://es.statisticseasily.com/glosario/%C2%BFCu%C3%A1l-es-la-desviaci%C3%B3n-absoluta-mediana%3F/)\n",
    "### Definición y fórmula\n",
    "\n",
    "La Desviación Absoluta de la Mediana (MAD) mide la dispersión de los datos como la mediana de las distancias absolutas de cada valor respecto a la mediana del conjunto ￼. Matemáticamente se define como: \\\\\n",
    "\n",
    " $\\mathrm{MAD} = \\mathrm{median}(|X_i - \\tilde{X}|)$\n",
    "\n",
    "Donde $X_i$ son los datos y $\\tilde{X}$ es la mediana de los datos.\n",
    "\n",
    "### Propiedades y robustez\n",
    "\n",
    "La MAD es un estadístico de dispersión robusto: al usar la mediana en lugar de la media, las desviaciones de unos pocos valores atípicos quedan en gran medida irrelevantes ￼. Esto la hace mucho menos sensible a valores extremos que la desviación estándar habitual. De hecho, muchos métodos de detección de atípicos prefieren la MAD por esta razón de robustez ￼.\n",
    "\n",
    "### Aplicaciones prácticas\n",
    "- Finanzas: Se usa para medir la volatilidad de precios de activos, ofreciendo una medida de riesgo más resistente a outliers ￼.\n",
    "- Salud: Sirve para analizar datos de pacientes y detectar variaciones atípicas en resultados clínicos ￼.\n",
    "- Medioambiental: Se emplea para evaluar fluctuaciones en datos climáticos (por ejemplo, temperatura) de forma más robusta ￼.\n",
    "- Machine Learning: En aprendizaje automático se aplica en preprocesamiento de datos y detección de anomalías, identificando puntos de datos que se desvían de la mediana ￼.\n",
    "\n",
    "### Detección de valores atípicos con MAD\n",
    "[What is a Modified Z-Score? (Definition & Example)](https://www.statology.org/modified-z-score/)\n",
    "\n",
    "Gracias a su robustez, la MAD es útil para detectar valores atípicos. Una regla común es considerar atípico cualquier dato cuya desviación absoluta respecto a la mediana exceda cierto múltiplo de la MAD. \n",
    "\n",
    "Z-scores a menudo se usan para detectar valores atípicos en un conjunto de datos. Por ejemplo, las observaciones con un puntaje Z inferior a -3 o más de 3 a menudo se consideran atípicos.\n",
    "\n",
    "Sin embargo, los Z-scores pueden verse afectados por valores de datos inusualmente grandes o pequeños, por lo que una forma más robusta de detectar valores atípicos es usar una puntuación Z modificada, que se calcula como:\n",
    "\n",
    "$Z_i = 0.6745,(x_i - \\tilde{X})/\\mathrm{MAD}$ \n",
    "\n",
    "Un Z-score modificado es más robusto porque usa la mediana para calcular las puntuaciones Z en comparación con la media, que se sabe que está influenciada por los valores atípicos.\n",
    "\n",
    " Siguiendo a Iglewicz y Hoaglin, se suele marcar como outlier cualquier punto con $|Z_i|>3.5$ ￼.\n",
    "\n",
    "### Ejemplo en Python\n",
    "\n",
    "La siguiente celda de código muestra cómo detectar un valor atípico en un arreglo unidimensional usando la MAD:"
   ]
  },
  {
   "cell_type": "code",
   "execution_count": null,
   "id": "a14fc9da",
   "metadata": {},
   "outputs": [
    {
     "name": "stdout",
     "output_type": "stream",
     "text": [
      "Mediana: 12.0\n",
      "MAD: 1.0\n",
      "Valores atípicos detectados: [100]\n"
     ]
    }
   ],
   "source": [
    "import numpy as np\n",
    "\n",
    "# Datos de ejemplo con un valor atípico evidente\n",
    "datos = np.array([10, 12, 11, 13, 12, 14, 11, 100])\n",
    "mediana = np.median(datos)\n",
    "mad = np.median(np.abs(datos - mediana))\n",
    "print(\"Mediana:\", mediana)\n",
    "print(\"MAD:\", mad)\n",
    "\n",
    "# Cálculo de las puntuaciones z modificadas\n",
    "z_mod = 0.6745 * (datos - mediana) / mad\n",
    "\n",
    "# Identificar valores atípicos (|Z| > 3.5)\n",
    "outliers = datos[np.abs(z_mod) > 3.5]\n",
    "print(\"Valores atípicos detectados:\", outliers)"
   ]
  },
  {
   "cell_type": "markdown",
   "id": "09b93d80",
   "metadata": {},
   "source": [
    "## Ejemplo con Pandas, tres variables y 10 registros\n",
    "\n",
    "A continuación, se muestra cómo aplicar la técnica MAD para detectar valores atípicos en un DataFrame de Pandas con tres variables y diez registros. Se calculará la mediana y la MAD por columna y se marcarán los valores atípicos."
   ]
  },
  {
   "cell_type": "code",
   "execution_count": null,
   "id": "15611f02",
   "metadata": {},
   "outputs": [
    {
     "name": "stdout",
     "output_type": "stream",
     "text": [
      "Datos:\n",
      "          Var1       Var2       Var3\n",
      "0   52.483571  31.627680   8.183952\n",
      "1   49.308678  28.609747   7.175393\n",
      "2   53.238443  28.602811  12.931298\n",
      "3   57.615149  30.725887   9.548447\n",
      "4   48.829233  24.260159  10.135056\n",
      "5   48.829315  24.825247   7.150504\n",
      "6   57.896064  28.313137   8.911235\n",
      "7   53.837174  26.961507  10.221845\n",
      "8   47.652628  30.942742   7.698013\n",
      "9  100.000000   5.000000  25.000000\n",
      "\n",
      "Matriz de outliers (True indica un valor atípico):\n",
      "     Var1   Var2   Var3\n",
      "0  False  False  False\n",
      "1  False  False  False\n",
      "2  False  False  False\n",
      "3  False  False  False\n",
      "4  False  False  False\n",
      "5  False  False  False\n",
      "6  False  False  False\n",
      "7  False  False  False\n",
      "8  False  False  False\n",
      "9   True   True   True\n",
      "\n",
      "Registros con al menos un valor atípico:\n",
      "     Var1  Var2  Var3\n",
      "9  100.0   5.0  25.0\n"
     ]
    }
   ],
   "source": [
    "import pandas as pd\n",
    "import numpy as np\n",
    "\n",
    "# Crear DataFrame con 3 variables y 10 registros (incluyendo algunos outliers)\n",
    "np.random.seed(42)\n",
    "# np.random.normal(mean, std, n) genera n valores aleatorios siguiendo una distribución normal\n",
    "# con media 'mean' y desviación estándar 'std'. Esto simula datos \"normales\" para cada variable.\n",
    "# Luego, se agrega manualmente un valor extremo (outlier) al final de cada variable.\n",
    "data = {\n",
    "    \"Var1\": np.append(np.random.normal(50, 5, 9), 100),   # outlier en la última posición\n",
    "    \"Var2\": np.append(np.random.normal(30, 3, 9), 5),     # outlier bajo\n",
    "    \"Var3\": np.append(np.random.normal(10, 2, 9), 25)     # outlier alto\n",
    "}\n",
    "df = pd.DataFrame(data)\n",
    "print(\"Datos:\\n\", df)\n",
    "\n",
    "# Función para detectar outliers usando MAD\n",
    "def detectar_outliers_mad(serie, umbral=3.5):\n",
    "    mediana = np.median(serie)\n",
    "    mad = np.median(np.abs(serie - mediana))\n",
    "    z_mod = 0.6745 * (serie - mediana) / mad\n",
    "    return np.abs(z_mod) > umbral\n",
    "\n",
    "# Detectar outliers en cada columna\n",
    "# apply aplica la función a cada columna del DataFrame y como resultado devuelve un DataFrame de booleanos (True si es outlier, False si no lo es)\n",
    "outliers = df.apply(detectar_outliers_mad) \n",
    "print(\"\\nMatriz de outliers (True indica un valor atípico):\\n\", outliers)\n",
    "\n",
    "# Mostrar solo los registros que tienen al menos un valor atípico\n",
    "# outliers.any(axis=1) devuelve True si hay al menos un True en la fila, \n",
    "# porque .any() lo que hace es devolver True si al menos un valor es True bajo la condición dada. Y esa es axis=1, que es por filas.\n",
    "outliers_filas = df[outliers.any(axis=1)] \n",
    "print(\"\\nRegistros con al menos un valor atípico:\\n\", outliers_filas)"
   ]
  },
  {
   "cell_type": "code",
   "execution_count": null,
   "id": "5733b374",
   "metadata": {},
   "outputs": [
    {
     "name": "stdout",
     "output_type": "stream",
     "text": [
      "\n",
      "Datos sin outliers:\n",
      "         Var1       Var2       Var3\n",
      "0  52.483571  31.627680   8.183952\n",
      "1  49.308678  28.609747   7.175393\n",
      "2  53.238443  28.602811  12.931298\n",
      "3  57.615149  30.725887   9.548447\n",
      "4  48.829233  24.260159  10.135056\n",
      "5  48.829315  24.825247   7.150504\n",
      "6  57.896064  28.313137   8.911235\n",
      "7  53.837174  26.961507  10.221845\n",
      "8  47.652628  30.942742   7.698013\n"
     ]
    }
   ],
   "source": [
    "# Para eliminar los outliers, podemos filtrar el DataFrame\n",
    "df_sin_outliers = df[~outliers.any(axis=1)] # ~ para negar la condición\n",
    "print(\"\\nDatos sin outliers:\\n\", df_sin_outliers)"
   ]
  }
 ],
 "metadata": {
  "kernelspec": {
   "display_name": "tesis",
   "language": "python",
   "name": "python3"
  },
  "language_info": {
   "codemirror_mode": {
    "name": "ipython",
    "version": 3
   },
   "file_extension": ".py",
   "mimetype": "text/x-python",
   "name": "python",
   "nbconvert_exporter": "python",
   "pygments_lexer": "ipython3",
   "version": "3.13.7"
  }
 },
 "nbformat": 4,
 "nbformat_minor": 5
}
